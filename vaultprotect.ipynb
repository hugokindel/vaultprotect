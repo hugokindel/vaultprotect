{
 "cells": [
  {
   "cell_type": "markdown",
   "id": "386e5d0e3923144d",
   "metadata": {
    "collapsed": false
   },
   "source": [
    "# VaultProtect"
   ]
  },
  {
   "cell_type": "markdown",
   "id": "661a8f0044969d13",
   "metadata": {
    "collapsed": false
   },
   "source": [
    "## Description\n",
    "\n",
    "Face recognition machine learning model creation and training for unlocking a secure data vault.\n",
    "\n",
    "- Base model: [VGG-16](https://www.tensorflow.org/api_docs/python/tf/keras/applications/vgg16/VGG16).\n",
    "- Datasets: [DigiFace-1M](https://github.com/microsoft/DigiFace1M).\n",
    "\n",
    "It has also been tested with a variety of base models (VGG-19, ResNet50, ResNet152) and datasets (FLW, custom faces), but the best results seems to resulted from VGG-16 and DigiFace-1M."
   ]
  },
  {
   "cell_type": "markdown",
   "id": "c14e509712772ea5",
   "metadata": {
    "collapsed": false
   },
   "source": [
    "## Setup\n",
    "\n",
    "Tested with Tensorflow `1.25.0` and Python `3.11.6`."
   ]
  },
  {
   "cell_type": "markdown",
   "id": "25d6780cb9f602",
   "metadata": {
    "collapsed": false
   },
   "source": [
    "### On all platforms"
   ]
  },
  {
   "cell_type": "code",
   "execution_count": null,
   "id": "38f69b26e57e31bb",
   "metadata": {
    "collapsed": false
   },
   "outputs": [],
   "source": [
    "!pip install tensorflow pillow scikit-learn matplotlib"
   ]
  },
  {
   "cell_type": "markdown",
   "id": "59be5045a0c9317a",
   "metadata": {
    "collapsed": false
   },
   "source": [
    "### On macOS (to use the GPU)"
   ]
  },
  {
   "cell_type": "code",
   "execution_count": null,
   "id": "d6e201bdd28cfd9a",
   "metadata": {
    "collapsed": false
   },
   "outputs": [],
   "source": [
    "!pip install tensorflow-macos tensorflow-metal"
   ]
  },
  {
   "cell_type": "markdown",
   "id": "e3f3de2c1aadd78f",
   "metadata": {
    "collapsed": false
   },
   "source": [
    "## Code"
   ]
  },
  {
   "cell_type": "code",
   "execution_count": 10,
   "id": "initial_id",
   "metadata": {
    "collapsed": true,
    "ExecuteTime": {
     "end_time": "2024-01-29T07:39:54.014960Z",
     "start_time": "2024-01-29T07:39:54.012162Z"
    }
   },
   "outputs": [],
   "source": [
    "import os\n",
    "import datetime\n",
    "from tensorflow.keras.preprocessing.image import ImageDataGenerator\n",
    "from tensorflow.keras.applications.vgg16 import VGG16, preprocess_input\n",
    "from tensorflow.keras.models import Model\n",
    "from tensorflow.keras.layers import Dense, Flatten, Dropout, BatchNormalization\n",
    "# noinspection PyUnresolvedReferences\n",
    "from tensorflow.python.keras.callbacks import ModelCheckpoint, EarlyStopping\n",
    "# noinspection PyUnresolvedReferences\n",
    "from tensorflow.python.keras.regularizers import l2\n",
    "from matplotlib import pyplot as plt"
   ]
  },
  {
   "cell_type": "markdown",
   "id": "a632879b6878b78a",
   "metadata": {
    "collapsed": false
   },
   "source": [
    "The values below defines the different data locations:\n",
    "\n",
    "- `train_dir`: The directory containing the training data.\n",
    "- `validation_dir`: The directory containing the validation data (to influence the weights improvements upon training).\n",
    "- `test_dir`: The directory containing the test data (that has never been used by the training or validation of the model).\n",
    "- The expected size of the images.\n",
    "- The batch size for model training.\n",
    "- The number of epochs for model training.\n",
    "- The number of classes (= people) in the training dataset."
   ]
  },
  {
   "cell_type": "code",
   "execution_count": 11,
   "id": "9fdde2d2e90c5d25",
   "metadata": {
    "collapsed": false,
    "ExecuteTime": {
     "end_time": "2024-01-29T07:39:55.064229Z",
     "start_time": "2024-01-29T07:39:55.060423Z"
    }
   },
   "outputs": [],
   "source": [
    "train_dir = \"datasets/train\"\n",
    "validation_dir = \"datasets/validation\"\n",
    "test_dir = \"datasets/test\"\n",
    "model_path = \"models/vaultprotect.keras\"\n",
    "img_width = 224\n",
    "img_height = 224\n",
    "batch_size = 32\n",
    "epochs = 5\n",
    "num_people = len([f for f in os.listdir(train_dir) if not f.startswith(\".\")])"
   ]
  },
  {
   "cell_type": "markdown",
   "id": "c0aeddb3af31c1ad",
   "metadata": {
    "collapsed": false
   },
   "source": [
    "Change the value below:\n",
    "- `load` to load the model if it already has been trained and saved.\n",
    "- `save` to save the model after training.\n",
    "- `train` to train the model.\n",
    "- `test` to test the model."
   ]
  },
  {
   "cell_type": "code",
   "execution_count": 12,
   "id": "fe2bda3010e92499",
   "metadata": {
    "collapsed": false,
    "ExecuteTime": {
     "end_time": "2024-01-29T07:39:56.999055Z",
     "start_time": "2024-01-29T07:39:56.994820Z"
    }
   },
   "outputs": [],
   "source": [
    "load = False\n",
    "save = False\n",
    "train = True\n",
    "test = True"
   ]
  },
  {
   "cell_type": "markdown",
   "id": "5b8d66656fdd0512",
   "metadata": {
    "collapsed": false
   },
   "source": [
    "## Creation of the model\n",
    "\n",
    "We use the VGG-16 model as a base model, and we add a few layers on top of it to adapt it to our needs.\n",
    "\n",
    "The base model is not trained, only the layers we add on top of it are trained. As VGG-16 is already supposed to be a well-trained model, we prefer to not influence its weights as it would add overall complexity when evaluating the results from our point of view.\n",
    "\n",
    "The layers we add on top of the base model are:\n",
    "\n",
    "- A `Flatten` layer to flatten the output of the base model.\n",
    "- A `Dense` layer with 1024 neurons and a `relu` activation function.\n",
    "- A `Dropout` layer with a `0.5` rate.\n",
    "- A `Dense` layer with the number of classes (= people) as neurons and a `softmax` activation function.\n",
    "\n",
    "Then, we load the weights of the model if it has already been trained and saved.\n",
    "\n",
    "The model is compiled with the `adam` optimizer, the `categorical_crossentropy` loss function and the `accuracy` metric."
   ]
  },
  {
   "cell_type": "code",
   "execution_count": 13,
   "id": "dbf8bfb341fd15d8",
   "metadata": {
    "collapsed": false,
    "ExecuteTime": {
     "end_time": "2024-01-29T07:40:00.097830Z",
     "start_time": "2024-01-29T07:39:59.662741Z"
    }
   },
   "outputs": [],
   "source": [
    "base_model = VGG16(weights=\"imagenet\", include_top=False, input_shape=(img_width, img_height, 3))\n",
    "\n",
    "for layer in base_model.layers:\n",
    "    layer.trainable = False\n",
    "\n",
    "base_model_output = Flatten()(base_model.output)\n",
    "\n",
    "base_model_output = Dense(1024, activation='relu')(base_model_output)\n",
    "base_model_output = BatchNormalization()(base_model_output)\n",
    "base_model_output = Dropout(0.5)(base_model_output)\n",
    "\n",
    "base_model_output = Dense(1024, activation='relu')(base_model_output)\n",
    "base_model_output = BatchNormalization()(base_model_output)\n",
    "base_model_output = Dropout(0.5)(base_model_output)\n",
    "\n",
    "base_model_output = Dense(num_people, activation='softmax')(base_model_output)\n",
    "\n",
    "model = Model(inputs=base_model.input, outputs=base_model_output)\n",
    "\n",
    "if load and os.path.exists(model_path):\n",
    "    model.load_weights(model_path)\n",
    "\n",
    "model.compile(optimizer=\"adam\", loss=\"categorical_crossentropy\", metrics=[\"accuracy\"])"
   ]
  },
  {
   "cell_type": "markdown",
   "id": "ed14e2e6b5e1229c",
   "metadata": {
    "collapsed": false
   },
   "source": [
    "## Training of the model\n",
    "\n",
    "For the training dataset, we use the `ImageDataGenerator` class to generate batches of tensor image data with real-time data augmentation.\n",
    "\n",
    "For the validation, we use the `ImageDataGenerator` class to generate batches of tensor image data without data augmentation because it needs to be as close as the original data as possible.\n",
    "\n",
    "We define the `ModelCheckpoint` callback to save the model with the best weights during the training.\n",
    "\n",
    "We define the `EarlyStopping` callback to stop the training if the validation loss does not improve after 50 epochs.\n",
    "\n",
    "Then, we train the model with the `fit` method.\n",
    "\n",
    "Finally, we save the model weights."
   ]
  },
  {
   "cell_type": "code",
   "execution_count": 16,
   "id": "67de14d41b3db9a1",
   "metadata": {
    "collapsed": false,
    "ExecuteTime": {
     "end_time": "2024-01-29T07:50:14.112497Z",
     "start_time": "2024-01-29T07:42:35.261168Z"
    }
   },
   "outputs": [
    {
     "name": "stdout",
     "output_type": "stream",
     "text": [
      "Found 10600 images belonging to 200 classes.\n",
      "Found 2800 images belonging to 200 classes.\n",
      "2024-01-29 08:42:35.709041\n",
      "Epoch 1/5\n",
      "331/331 [==============================] - 92s 277ms/step - loss: 3.6085 - accuracy: 0.2227 - val_loss: 2.1924 - val_accuracy: 0.4767\n",
      "Epoch 2/5\n",
      "331/331 [==============================] - 93s 280ms/step - loss: 2.7699 - accuracy: 0.3512 - val_loss: 1.8311 - val_accuracy: 0.5474\n",
      "Epoch 3/5\n",
      "331/331 [==============================] - 91s 273ms/step - loss: 2.3366 - accuracy: 0.4332 - val_loss: 1.5170 - val_accuracy: 0.6210\n",
      "Epoch 4/5\n",
      "331/331 [==============================] - 91s 275ms/step - loss: 2.0128 - accuracy: 0.4989 - val_loss: 1.3105 - val_accuracy: 0.6534\n",
      "Epoch 5/5\n",
      "331/331 [==============================] - 91s 275ms/step - loss: 1.8362 - accuracy: 0.5339 - val_loss: 1.2035 - val_accuracy: 0.6800\n",
      "2024-01-29 08:50:13.688888\n",
      "[0.22265329957008362, 0.3511544167995453, 0.4331945478916168, 0.4988645017147064, 0.5338758230209351] [0.4766522943973541, 0.5474137663841248, 0.6210488677024841, 0.6533764600753784, 0.6799569129943848]\n"
     ]
    },
    {
     "data": {
      "text/plain": "<Figure size 640x480 with 1 Axes>",
      "image/png": "[encoded data removed]"
     },
     "metadata": {},
     "output_type": "display_data"
    },
    {
     "name": "stdout",
     "output_type": "stream",
     "text": [
      "[3.6085174083709717, 2.769864320755005, 2.3366024494171143, 2.0128066539764404, 1.8361856937408447] [2.1924309730529785, 1.8311318159103394, 1.5169596672058105, 1.3105335235595703, 1.2034512758255005]\n"
     ]
    },
    {
     "data": {
      "text/plain": "<Figure size 640x480 with 0 Axes>"
     },
     "metadata": {},
     "output_type": "display_data"
    },
    {
     "data": {
      "text/plain": "<Figure size 640x480 with 1 Axes>",
      "image/png": "[encoded data removed]"
     },
     "metadata": {},
     "output_type": "display_data"
    }
   ],
   "source": [
    "train_datagen = ImageDataGenerator(\n",
    "    preprocessing_function=preprocess_input,\n",
    "    rotation_range=20,\n",
    "    width_shift_range=0.2,\n",
    "    height_shift_range=0.2,\n",
    "    horizontal_flip=True)\n",
    "\n",
    "train_generator = train_datagen.flow_from_directory(\n",
    "    train_dir,\n",
    "    target_size=(img_width, img_height),\n",
    "    batch_size=batch_size,\n",
    "    class_mode=\"categorical\")\n",
    "\n",
    "if train:\n",
    "    val_datagen = ImageDataGenerator(preprocessing_function=preprocess_input)\n",
    "\n",
    "    validation_generator = val_datagen.flow_from_directory(\n",
    "        validation_dir,\n",
    "        target_size=(img_width, img_height),\n",
    "        batch_size=batch_size,\n",
    "        class_mode=\"categorical\")\n",
    "\n",
    "    #tl_checkpoint_1 = ModelCheckpoint(filepath=model_path.replace(\".keras\", \".checkpoint.keras\"),\n",
    "    #                                  save_best_only=True,\n",
    "    #                                  verbose=1)\n",
    "\n",
    "    #early_stop = EarlyStopping(monitor=\"val_loss\",\n",
    "    #                           patience=50,\n",
    "    #                           restore_best_weights=True,\n",
    "    #                           mode=\"min\")\n",
    "\n",
    "    print(datetime.datetime.now())\n",
    "\n",
    "    history = model.fit(train_generator,\n",
    "              steps_per_epoch=train_generator.samples // batch_size,\n",
    "              epochs=epochs,\n",
    "              validation_data=validation_generator,\n",
    "              validation_steps=validation_generator.samples // batch_size,\n",
    "              #callbacks=[tl_checkpoint_1, early_stop])\n",
    "    )\n",
    "\n",
    "    print(datetime.datetime.now())\n",
    "\n",
    "    if save:\n",
    "        model.save_weights(model_path)\n",
    "\n",
    "    accuracy_stats = plt.figure()\n",
    "    print(history.history['accuracy'], history.history['val_accuracy'])\n",
    "    plt.plot(history.history['accuracy'])\n",
    "    plt.plot(history.history['val_accuracy'])\n",
    "    plt.title('model accuracy')\n",
    "    plt.ylabel('accuracy')\n",
    "    plt.xlabel('epoch')\n",
    "    plt.legend(['training accuracy', 'validation accuracy'], loc='upper left')\n",
    "    plt.show()\n",
    "    # accuracy_stats.savefig(\"accuracy_stats.pdf\")\n",
    "\n",
    "    plt.clf()\n",
    "\n",
    "    loss_stats = plt.figure()\n",
    "    print(history.history['loss'], history.history['val_loss'])\n",
    "    plt.plot(history.history['loss'])\n",
    "    plt.plot(history.history['val_loss'])\n",
    "    plt.title('model loss')\n",
    "    plt.ylabel('loss')\n",
    "    plt.xlabel('epoch')\n",
    "    plt.legend(['training loss', 'validation loss'], loc='upper left')\n",
    "    plt.show()\n",
    "    # loss_stats.savefig(\"loss_stats.pdf\")"
   ]
  },
  {
   "cell_type": "markdown",
   "id": "398904389f8eb201",
   "metadata": {
    "collapsed": false
   },
   "source": [
    "## Evaluation of the model\n",
    "\n",
    "We use the `ImageDataGenerator` class to generate batches of tensor image data without data augmentation because it needs to be as close as the original data as possible.\n",
    "\n",
    "Then, we evaluate the model with the `evaluate` method.\n",
    "\n",
    "Finally, we print the test accuracy."
   ]
  },
  {
   "cell_type": "code",
   "execution_count": 9,
   "id": "baeaab996dd3e78",
   "metadata": {
    "collapsed": false,
    "ExecuteTime": {
     "end_time": "2024-01-29T07:38:36.458291Z",
     "start_time": "2024-01-29T07:38:29.654176Z"
    }
   },
   "outputs": [
    {
     "name": "stdout",
     "output_type": "stream",
     "text": [
      "Found 1000 images belonging to 200 classes.\n",
      "31/31 [==============================] - 7s 211ms/step - loss: 0.2553 - accuracy: 0.9294\n",
      "Test accuracy: 0.9294354915618896\n"
     ]
    }
   ],
   "source": [
    "test_datagen = ImageDataGenerator(preprocessing_function=preprocess_input)\n",
    "\n",
    "test_generator = test_datagen.flow_from_directory(\n",
    "    test_dir,\n",
    "    target_size=(img_width, img_height),\n",
    "    batch_size=batch_size,\n",
    "    class_mode=\"categorical\")\n",
    "\n",
    "test_loss, test_acc = model.evaluate(test_generator, steps=test_generator.samples // batch_size)\n",
    "\n",
    "print(\"Test accuracy:\", test_acc)"
   ]
  }
 ],
 "metadata": {
  "kernelspec": {
   "display_name": "Python 3",
   "language": "python",
   "name": "python3"
  },
  "language_info": {
   "codemirror_mode": {
    "name": "ipython",
    "version": 2
   },
   "file_extension": ".py",
   "mimetype": "text/x-python",
   "name": "python",
   "nbconvert_exporter": "python",
   "pygments_lexer": "ipython2",
   "version": "2.7.6"
  }
 },
 "nbformat": 4,
 "nbformat_minor": 5
}
